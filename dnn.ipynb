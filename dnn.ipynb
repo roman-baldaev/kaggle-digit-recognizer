{
 "cells": [
  {
   "cell_type": "code",
   "execution_count": 1,
   "metadata": {},
   "outputs": [],
   "source": [
    "import tensorflow as tf"
   ]
  },
  {
   "cell_type": "code",
   "execution_count": 2,
   "metadata": {},
   "outputs": [],
   "source": [
    "import numpy as np"
   ]
  },
  {
   "cell_type": "code",
   "execution_count": 3,
   "metadata": {},
   "outputs": [],
   "source": [
    "import pandas as pd"
   ]
  },
  {
   "cell_type": "markdown",
   "metadata": {},
   "source": [
    "## MNIST data preparation"
   ]
  },
  {
   "cell_type": "code",
   "execution_count": 4,
   "metadata": {},
   "outputs": [],
   "source": [
    "mnist_data = pd.read_csv(\"./data/train.csv\")"
   ]
  },
  {
   "cell_type": "code",
   "execution_count": 5,
   "metadata": {},
   "outputs": [
    {
     "data": {
      "text/plain": [
       "(42000, 785)"
      ]
     },
     "execution_count": 5,
     "metadata": {},
     "output_type": "execute_result"
    }
   ],
   "source": [
    "mnist_data.shape"
   ]
  },
  {
   "cell_type": "code",
   "execution_count": 6,
   "metadata": {},
   "outputs": [],
   "source": [
    "from sklearn.model_selection import train_test_split"
   ]
  },
  {
   "cell_type": "code",
   "execution_count": 7,
   "metadata": {},
   "outputs": [],
   "source": [
    "train, test = train_test_split(mnist_data, test_size=0.1, shuffle=False)"
   ]
  },
  {
   "cell_type": "code",
   "execution_count": 8,
   "metadata": {},
   "outputs": [
    {
     "data": {
      "text/plain": [
       "(37800, 785)"
      ]
     },
     "execution_count": 8,
     "metadata": {},
     "output_type": "execute_result"
    }
   ],
   "source": [
    "train.shape"
   ]
  },
  {
   "cell_type": "code",
   "execution_count": 9,
   "metadata": {},
   "outputs": [],
   "source": [
    "Y_train = train[\"label\"]\n",
    "\n",
    "# Drop 'label' column\n",
    "X_train = train.drop(labels = [\"label\"],axis = 1) "
   ]
  },
  {
   "cell_type": "code",
   "execution_count": 60,
   "metadata": {},
   "outputs": [],
   "source": [
    "Y_test = test[\"label\"]\n",
    "\n",
    "# Drop 'label' column\n",
    "X_test = test.drop(labels = [\"label\"],axis = 1) / 255.0"
   ]
  },
  {
   "cell_type": "markdown",
   "metadata": {},
   "source": [
    "## DNN"
   ]
  },
  {
   "cell_type": "code",
   "execution_count": 9,
   "metadata": {},
   "outputs": [],
   "source": [
    "n_inputs = 28*28\n",
    "n_hidden1 = 300\n",
    "n_hidden2 = 100\n",
    "n_outputs = 10"
   ]
  },
  {
   "cell_type": "code",
   "execution_count": 10,
   "metadata": {},
   "outputs": [],
   "source": [
    "X = tf.placeholder(tf.float32, shape=(None, n_inputs), name=\"X\")"
   ]
  },
  {
   "cell_type": "code",
   "execution_count": 11,
   "metadata": {},
   "outputs": [],
   "source": [
    "y = tf.placeholder(tf.int64, shape=(None), name=\"y\")"
   ]
  },
  {
   "cell_type": "code",
   "execution_count": 12,
   "metadata": {},
   "outputs": [],
   "source": [
    "with tf.name_scope(\"dnn\"):\n",
    "    hidden1 = tf.layers.dense(X, n_hidden1, name=\"hidden1\",\n",
    "                             activation=tf.nn.relu)\n",
    "    hidden2 = tf.layers.dense(hidden1, n_hidden2, name=\"hidden2\",\n",
    "                             activation=tf.nn.relu)\n",
    "    logits = tf.layers.dense(hidden2, n_outputs, name=\"outputs\")"
   ]
  },
  {
   "cell_type": "code",
   "execution_count": 13,
   "metadata": {},
   "outputs": [],
   "source": [
    "with tf.name_scope(\"loss\"):\n",
    "  xentropy = tf.nn.sparse_softmax_cross_entropy_with_logits(labels=y,\n",
    "                                                          logits=logits)\n",
    "  loss = tf.reduce_mean(xentropy, name=\"loss\")"
   ]
  },
  {
   "cell_type": "code",
   "execution_count": 14,
   "metadata": {},
   "outputs": [],
   "source": [
    "learning_rate = 0.01"
   ]
  },
  {
   "cell_type": "code",
   "execution_count": 15,
   "metadata": {},
   "outputs": [],
   "source": [
    "with tf.name_scope(\"train\"):\n",
    "    optimizer = tf.train.GradientDescentOptimizer(learning_rate=learning_rate)\n",
    "    training_op = optimizer.minimize(loss)"
   ]
  },
  {
   "cell_type": "code",
   "execution_count": 16,
   "metadata": {},
   "outputs": [],
   "source": [
    "with tf.name_scope(\"eval\"):\n",
    "    correct = tf.nn.in_top_k(logits, y, 1)\n",
    "    accuracy = tf.reduce_mean(tf.cast(correct, tf.float32))"
   ]
  },
  {
   "cell_type": "code",
   "execution_count": 17,
   "metadata": {},
   "outputs": [],
   "source": [
    "init = tf.global_variables_initializer()"
   ]
  },
  {
   "cell_type": "code",
   "execution_count": 18,
   "metadata": {},
   "outputs": [],
   "source": [
    "saver = tf.train.Saver()"
   ]
  },
  {
   "cell_type": "code",
   "execution_count": 76,
   "metadata": {},
   "outputs": [],
   "source": [
    "n_epochs = 100"
   ]
  },
  {
   "cell_type": "code",
   "execution_count": 77,
   "metadata": {},
   "outputs": [],
   "source": [
    "batch_size = 50"
   ]
  },
  {
   "cell_type": "code",
   "execution_count": 21,
   "metadata": {},
   "outputs": [],
   "source": [
    "def get_batch(df, batch_size):\n",
    "    return df.sample(batch_size, axis=0)"
   ]
  },
  {
   "cell_type": "code",
   "execution_count": 41,
   "metadata": {},
   "outputs": [],
   "source": [
    "test_batch = get_batch(train, 1)"
   ]
  },
  {
   "cell_type": "code",
   "execution_count": 27,
   "metadata": {},
   "outputs": [],
   "source": [
    "import matplotlib"
   ]
  },
  {
   "cell_type": "code",
   "execution_count": 28,
   "metadata": {},
   "outputs": [],
   "source": [
    "import matplotlib.pyplot as plt"
   ]
  },
  {
   "cell_type": "code",
   "execution_count": 42,
   "metadata": {},
   "outputs": [
    {
     "data": {
      "text/html": [
       "<div>\n",
       "<style scoped>\n",
       "    .dataframe tbody tr th:only-of-type {\n",
       "        vertical-align: middle;\n",
       "    }\n",
       "\n",
       "    .dataframe tbody tr th {\n",
       "        vertical-align: top;\n",
       "    }\n",
       "\n",
       "    .dataframe thead th {\n",
       "        text-align: right;\n",
       "    }\n",
       "</style>\n",
       "<table border=\"1\" class=\"dataframe\">\n",
       "  <thead>\n",
       "    <tr style=\"text-align: right;\">\n",
       "      <th></th>\n",
       "      <th>label</th>\n",
       "      <th>pixel0</th>\n",
       "      <th>pixel1</th>\n",
       "      <th>pixel2</th>\n",
       "      <th>pixel3</th>\n",
       "      <th>pixel4</th>\n",
       "      <th>pixel5</th>\n",
       "      <th>pixel6</th>\n",
       "      <th>pixel7</th>\n",
       "      <th>pixel8</th>\n",
       "      <th>...</th>\n",
       "      <th>pixel774</th>\n",
       "      <th>pixel775</th>\n",
       "      <th>pixel776</th>\n",
       "      <th>pixel777</th>\n",
       "      <th>pixel778</th>\n",
       "      <th>pixel779</th>\n",
       "      <th>pixel780</th>\n",
       "      <th>pixel781</th>\n",
       "      <th>pixel782</th>\n",
       "      <th>pixel783</th>\n",
       "    </tr>\n",
       "  </thead>\n",
       "  <tbody>\n",
       "    <tr>\n",
       "      <th>31072</th>\n",
       "      <td>6</td>\n",
       "      <td>0</td>\n",
       "      <td>0</td>\n",
       "      <td>0</td>\n",
       "      <td>0</td>\n",
       "      <td>0</td>\n",
       "      <td>0</td>\n",
       "      <td>0</td>\n",
       "      <td>0</td>\n",
       "      <td>0</td>\n",
       "      <td>...</td>\n",
       "      <td>0</td>\n",
       "      <td>0</td>\n",
       "      <td>0</td>\n",
       "      <td>0</td>\n",
       "      <td>0</td>\n",
       "      <td>0</td>\n",
       "      <td>0</td>\n",
       "      <td>0</td>\n",
       "      <td>0</td>\n",
       "      <td>0</td>\n",
       "    </tr>\n",
       "  </tbody>\n",
       "</table>\n",
       "<p>1 rows × 785 columns</p>\n",
       "</div>"
      ],
      "text/plain": [
       "       label  pixel0  pixel1  pixel2  pixel3  pixel4  pixel5  pixel6  pixel7  \\\n",
       "31072      6       0       0       0       0       0       0       0       0   \n",
       "\n",
       "       pixel8    ...     pixel774  pixel775  pixel776  pixel777  pixel778  \\\n",
       "31072       0    ...            0         0         0         0         0   \n",
       "\n",
       "       pixel779  pixel780  pixel781  pixel782  pixel783  \n",
       "31072         0         0         0         0         0  \n",
       "\n",
       "[1 rows x 785 columns]"
      ]
     },
     "execution_count": 42,
     "metadata": {},
     "output_type": "execute_result"
    }
   ],
   "source": [
    "test_batch"
   ]
  },
  {
   "cell_type": "code",
   "execution_count": 43,
   "metadata": {},
   "outputs": [],
   "source": [
    "digit = test_batch.drop([\"label\"], axis=1)"
   ]
  },
  {
   "cell_type": "code",
   "execution_count": 44,
   "metadata": {},
   "outputs": [],
   "source": [
    "digit = digit.values.reshape(28,28)"
   ]
  },
  {
   "cell_type": "code",
   "execution_count": 45,
   "metadata": {},
   "outputs": [
    {
     "data": {
      "text/plain": [
       "(28, 28)"
      ]
     },
     "execution_count": 45,
     "metadata": {},
     "output_type": "execute_result"
    }
   ],
   "source": [
    "digit.shape"
   ]
  },
  {
   "cell_type": "code",
   "execution_count": 46,
   "metadata": {},
   "outputs": [
    {
     "data": {
      "text/plain": [
       "<matplotlib.image.AxesImage at 0x7f4d3c9085c0>"
      ]
     },
     "execution_count": 46,
     "metadata": {},
     "output_type": "execute_result"
    },
    {
     "data": {
      "image/png": "[encoded data removed]",
      "text/plain": [
       "<Figure size 432x288 with 1 Axes>"
      ]
     },
     "metadata": {
      "needs_background": "light"
     },
     "output_type": "display_data"
    }
   ],
   "source": [
    "plt.imshow(digit, cmap=matplotlib.cm.binary, interpolation=\"nearest\")"
   ]
  },
  {
   "cell_type": "code",
   "execution_count": 52,
   "metadata": {},
   "outputs": [],
   "source": [
    "from tensorflow.examples.tutorials.mnist import input_data"
   ]
  },
  {
   "cell_type": "code",
   "execution_count": 53,
   "metadata": {},
   "outputs": [
    {
     "name": "stdout",
     "output_type": "stream",
     "text": [
      "WARNING:tensorflow:From <ipython-input-53-80aa5e208d67>:1: read_data_sets (from tensorflow.contrib.learn.python.learn.datasets.mnist) is deprecated and will be removed in a future version.\n",
      "Instructions for updating:\n",
      "Please use alternatives such as official/mnist/dataset.py from tensorflow/models.\n",
      "WARNING:tensorflow:From /home/roman-baldaev/anaconda3/lib/python3.6/site-packages/tensorflow/contrib/learn/python/learn/datasets/mnist.py:260: maybe_download (from tensorflow.contrib.learn.python.learn.datasets.base) is deprecated and will be removed in a future version.\n",
      "Instructions for updating:\n",
      "Please write your own downloading logic.\n",
      "WARNING:tensorflow:From /home/roman-baldaev/anaconda3/lib/python3.6/site-packages/tensorflow/contrib/learn/python/learn/datasets/mnist.py:262: extract_images (from tensorflow.contrib.learn.python.learn.datasets.mnist) is deprecated and will be removed in a future version.\n",
      "Instructions for updating:\n",
      "Please use tf.data to implement this functionality.\n",
      "Extracting /tmp/data/train-images-idx3-ubyte.gz\n",
      "WARNING:tensorflow:From /home/roman-baldaev/anaconda3/lib/python3.6/site-packages/tensorflow/contrib/learn/python/learn/datasets/mnist.py:267: extract_labels (from tensorflow.contrib.learn.python.learn.datasets.mnist) is deprecated and will be removed in a future version.\n",
      "Instructions for updating:\n",
      "Please use tf.data to implement this functionality.\n",
      "Extracting /tmp/data/train-labels-idx1-ubyte.gz\n",
      "Extracting /tmp/data/t10k-images-idx3-ubyte.gz\n",
      "Extracting /tmp/data/t10k-labels-idx1-ubyte.gz\n",
      "WARNING:tensorflow:From /home/roman-baldaev/anaconda3/lib/python3.6/site-packages/tensorflow/contrib/learn/python/learn/datasets/mnist.py:290: DataSet.__init__ (from tensorflow.contrib.learn.python.learn.datasets.mnist) is deprecated and will be removed in a future version.\n",
      "Instructions for updating:\n",
      "Please use alternatives such as official/mnist/dataset.py from tensorflow/models.\n"
     ]
    }
   ],
   "source": [
    "mnist = input_data.read_data_sets(\"/tmp/data/\")"
   ]
  },
  {
   "cell_type": "code",
   "execution_count": 22,
   "metadata": {},
   "outputs": [
    {
     "data": {
      "text/plain": [
       "37800"
      ]
     },
     "execution_count": 22,
     "metadata": {},
     "output_type": "execute_result"
    }
   ],
   "source": [
    "len(train)"
   ]
  },
  {
   "cell_type": "code",
   "execution_count": 78,
   "metadata": {},
   "outputs": [
    {
     "name": "stdout",
     "output_type": "stream",
     "text": [
      "0 Train accuracy: 0.8 Validation accuracy: 0.8840476\n",
      "1 Train accuracy: 0.88 Validation accuracy: 0.90619045\n",
      "2 Train accuracy: 0.94 Validation accuracy: 0.9154762\n",
      "3 Train accuracy: 0.84 Validation accuracy: 0.9259524\n",
      "4 Train accuracy: 0.96 Validation accuracy: 0.93\n",
      "5 Train accuracy: 0.94 Validation accuracy: 0.93285716\n",
      "6 Train accuracy: 0.88 Validation accuracy: 0.93761903\n",
      "7 Train accuracy: 0.98 Validation accuracy: 0.9411905\n",
      "8 Train accuracy: 0.98 Validation accuracy: 0.94095236\n",
      "9 Train accuracy: 0.96 Validation accuracy: 0.94785714\n",
      "10 Train accuracy: 0.94 Validation accuracy: 0.9454762\n",
      "11 Train accuracy: 0.98 Validation accuracy: 0.95166665\n",
      "12 Train accuracy: 0.98 Validation accuracy: 0.9538095\n",
      "13 Train accuracy: 0.96 Validation accuracy: 0.95285714\n",
      "14 Train accuracy: 0.98 Validation accuracy: 0.95357144\n",
      "15 Train accuracy: 0.94 Validation accuracy: 0.9552381\n",
      "16 Train accuracy: 0.96 Validation accuracy: 0.95690477\n",
      "17 Train accuracy: 0.96 Validation accuracy: 0.9583333\n",
      "18 Train accuracy: 0.98 Validation accuracy: 0.9583333\n",
      "19 Train accuracy: 0.98 Validation accuracy: 0.9583333\n",
      "20 Train accuracy: 0.98 Validation accuracy: 0.9597619\n",
      "21 Train accuracy: 0.96 Validation accuracy: 0.96\n",
      "22 Train accuracy: 0.98 Validation accuracy: 0.96261907\n",
      "23 Train accuracy: 1.0 Validation accuracy: 0.9621429\n",
      "24 Train accuracy: 1.0 Validation accuracy: 0.96238095\n",
      "25 Train accuracy: 1.0 Validation accuracy: 0.96238095\n",
      "26 Train accuracy: 1.0 Validation accuracy: 0.96309525\n",
      "27 Train accuracy: 1.0 Validation accuracy: 0.96428573\n",
      "28 Train accuracy: 0.98 Validation accuracy: 0.9645238\n",
      "29 Train accuracy: 0.98 Validation accuracy: 0.9654762\n",
      "30 Train accuracy: 1.0 Validation accuracy: 0.9654762\n",
      "31 Train accuracy: 1.0 Validation accuracy: 0.9659524\n",
      "32 Train accuracy: 0.98 Validation accuracy: 0.96690476\n",
      "33 Train accuracy: 1.0 Validation accuracy: 0.9647619\n",
      "34 Train accuracy: 1.0 Validation accuracy: 0.96619046\n",
      "35 Train accuracy: 1.0 Validation accuracy: 0.96690476\n",
      "36 Train accuracy: 0.98 Validation accuracy: 0.9685714\n",
      "37 Train accuracy: 0.98 Validation accuracy: 0.96738094\n",
      "38 Train accuracy: 0.98 Validation accuracy: 0.96738094\n",
      "39 Train accuracy: 1.0 Validation accuracy: 0.9678571\n",
      "40 Train accuracy: 1.0 Validation accuracy: 0.9664286\n",
      "41 Train accuracy: 1.0 Validation accuracy: 0.96761906\n",
      "42 Train accuracy: 1.0 Validation accuracy: 0.9690476\n",
      "43 Train accuracy: 1.0 Validation accuracy: 0.97\n",
      "44 Train accuracy: 1.0 Validation accuracy: 0.9695238\n",
      "45 Train accuracy: 1.0 Validation accuracy: 0.9683333\n",
      "46 Train accuracy: 1.0 Validation accuracy: 0.97\n",
      "47 Train accuracy: 1.0 Validation accuracy: 0.9690476\n",
      "48 Train accuracy: 1.0 Validation accuracy: 0.9707143\n",
      "49 Train accuracy: 1.0 Validation accuracy: 0.96880955\n",
      "50 Train accuracy: 1.0 Validation accuracy: 0.9707143\n",
      "51 Train accuracy: 1.0 Validation accuracy: 0.9707143\n",
      "52 Train accuracy: 1.0 Validation accuracy: 0.9704762\n",
      "53 Train accuracy: 1.0 Validation accuracy: 0.9697619\n",
      "54 Train accuracy: 1.0 Validation accuracy: 0.9695238\n",
      "55 Train accuracy: 1.0 Validation accuracy: 0.9709524\n",
      "56 Train accuracy: 1.0 Validation accuracy: 0.97119045\n",
      "57 Train accuracy: 1.0 Validation accuracy: 0.9716667\n",
      "58 Train accuracy: 1.0 Validation accuracy: 0.97119045\n",
      "59 Train accuracy: 1.0 Validation accuracy: 0.9716667\n",
      "60 Train accuracy: 1.0 Validation accuracy: 0.97190475\n",
      "61 Train accuracy: 1.0 Validation accuracy: 0.9716667\n",
      "62 Train accuracy: 1.0 Validation accuracy: 0.97238094\n",
      "63 Train accuracy: 0.98 Validation accuracy: 0.9716667\n",
      "64 Train accuracy: 1.0 Validation accuracy: 0.97119045\n",
      "65 Train accuracy: 1.0 Validation accuracy: 0.97238094\n",
      "66 Train accuracy: 1.0 Validation accuracy: 0.97261906\n",
      "67 Train accuracy: 1.0 Validation accuracy: 0.97119045\n",
      "68 Train accuracy: 1.0 Validation accuracy: 0.9716667\n",
      "69 Train accuracy: 1.0 Validation accuracy: 0.9721429\n",
      "70 Train accuracy: 1.0 Validation accuracy: 0.97309524\n",
      "71 Train accuracy: 1.0 Validation accuracy: 0.97261906\n",
      "72 Train accuracy: 1.0 Validation accuracy: 0.97261906\n",
      "73 Train accuracy: 1.0 Validation accuracy: 0.9721429\n",
      "74 Train accuracy: 1.0 Validation accuracy: 0.97333336\n",
      "75 Train accuracy: 1.0 Validation accuracy: 0.97238094\n",
      "76 Train accuracy: 1.0 Validation accuracy: 0.9740476\n",
      "77 Train accuracy: 1.0 Validation accuracy: 0.97261906\n",
      "78 Train accuracy: 1.0 Validation accuracy: 0.9716667\n",
      "79 Train accuracy: 1.0 Validation accuracy: 0.97190475\n",
      "80 Train accuracy: 1.0 Validation accuracy: 0.97333336\n",
      "81 Train accuracy: 1.0 Validation accuracy: 0.97238094\n",
      "82 Train accuracy: 1.0 Validation accuracy: 0.9716667\n",
      "83 Train accuracy: 1.0 Validation accuracy: 0.97333336\n",
      "84 Train accuracy: 1.0 Validation accuracy: 0.97238094\n",
      "85 Train accuracy: 1.0 Validation accuracy: 0.97333336\n",
      "86 Train accuracy: 1.0 Validation accuracy: 0.9745238\n",
      "87 Train accuracy: 1.0 Validation accuracy: 0.9740476\n",
      "88 Train accuracy: 1.0 Validation accuracy: 0.9735714\n",
      "89 Train accuracy: 1.0 Validation accuracy: 0.97238094\n",
      "90 Train accuracy: 1.0 Validation accuracy: 0.97333336\n",
      "91 Train accuracy: 1.0 Validation accuracy: 0.9728571\n",
      "92 Train accuracy: 1.0 Validation accuracy: 0.97309524\n",
      "93 Train accuracy: 1.0 Validation accuracy: 0.9735714\n",
      "94 Train accuracy: 1.0 Validation accuracy: 0.97261906\n",
      "95 Train accuracy: 1.0 Validation accuracy: 0.97333336\n",
      "96 Train accuracy: 1.0 Validation accuracy: 0.9742857\n",
      "97 Train accuracy: 1.0 Validation accuracy: 0.9728571\n",
      "98 Train accuracy: 1.0 Validation accuracy: 0.97380954\n",
      "99 Train accuracy: 1.0 Validation accuracy: 0.9745238\n"
     ]
    }
   ],
   "source": [
    "with tf.Session() as sess:\n",
    "    init.run()\n",
    "    for epoch in range(n_epochs):\n",
    "        for iteration in range(len(train) // batch_size):\n",
    "            batch = get_batch(train, batch_size)\n",
    "#             print(batch.head)\n",
    "            X_batch = batch.drop(labels = [\"label\"], axis=1).astype(float).values / 255.0\n",
    "            Y_batch = batch.label.astype(int).values\n",
    "#             X_batch, Y_batch = mnist.train.next_batch(batch_size)\n",
    "            sess.run(training_op, feed_dict={X: X_batch, y: Y_batch})\n",
    "        acc_train = accuracy.eval(feed_dict={X: X_batch, y: Y_batch})\n",
    "        acc_val = accuracy.eval(feed_dict={X: X_test,\n",
    "                                      y: Y_test})\n",
    "        print(epoch, \"Train accuracy:\", acc_train,\n",
    "             \"Validation accuracy:\", acc_val)\n",
    "    save_path = saver.save(sess, \"./dnn_model_mnist.ckpt\")"
   ]
  },
  {
   "cell_type": "code",
   "execution_count": null,
   "metadata": {},
   "outputs": [],
   "source": []
  },
  {
   "cell_type": "code",
   "execution_count": null,
   "metadata": {},
   "outputs": [],
   "source": []
  },
  {
   "cell_type": "code",
   "execution_count": 79,
   "metadata": {},
   "outputs": [],
   "source": [
    "submit_test = pd.read_csv(\"./data/test.csv\")"
   ]
  },
  {
   "cell_type": "code",
   "execution_count": 80,
   "metadata": {},
   "outputs": [
    {
     "name": "stdout",
     "output_type": "stream",
     "text": [
      "INFO:tensorflow:Restoring parameters from ./dnn_model_mnist.ckpt\n"
     ]
    }
   ],
   "source": [
    "with tf.Session() as sess:\n",
    "    saver.restore(sess, \"./dnn_model_mnist.ckpt\") #\"my_model_final.ckpt\")\n",
    "    X_new_scaled = submit_test / 255.0\n",
    "    Z = logits.eval(feed_dict={X: X_new_scaled})\n",
    "    submit_pred = np.argmax(Z, axis=1)"
   ]
  },
  {
   "cell_type": "code",
   "execution_count": 81,
   "metadata": {},
   "outputs": [],
   "source": [
    "submit = {'ImageId': [i+1 for i in range(len(submit_pred))], 'Label': submit_pred}"
   ]
  },
  {
   "cell_type": "code",
   "execution_count": 82,
   "metadata": {},
   "outputs": [],
   "source": [
    "submit_df = pd.DataFrame(data=submit)"
   ]
  },
  {
   "cell_type": "code",
   "execution_count": null,
   "metadata": {},
   "outputs": [],
   "source": []
  },
  {
   "cell_type": "code",
   "execution_count": 83,
   "metadata": {},
   "outputs": [
    {
     "data": {
      "text/html": [
       "<div>\n",
       "<style scoped>\n",
       "    .dataframe tbody tr th:only-of-type {\n",
       "        vertical-align: middle;\n",
       "    }\n",
       "\n",
       "    .dataframe tbody tr th {\n",
       "        vertical-align: top;\n",
       "    }\n",
       "\n",
       "    .dataframe thead th {\n",
       "        text-align: right;\n",
       "    }\n",
       "</style>\n",
       "<table border=\"1\" class=\"dataframe\">\n",
       "  <thead>\n",
       "    <tr style=\"text-align: right;\">\n",
       "      <th></th>\n",
       "      <th>ImageId</th>\n",
       "      <th>Label</th>\n",
       "    </tr>\n",
       "  </thead>\n",
       "  <tbody>\n",
       "    <tr>\n",
       "      <th>0</th>\n",
       "      <td>1</td>\n",
       "      <td>2</td>\n",
       "    </tr>\n",
       "    <tr>\n",
       "      <th>1</th>\n",
       "      <td>2</td>\n",
       "      <td>0</td>\n",
       "    </tr>\n",
       "    <tr>\n",
       "      <th>2</th>\n",
       "      <td>3</td>\n",
       "      <td>9</td>\n",
       "    </tr>\n",
       "    <tr>\n",
       "      <th>3</th>\n",
       "      <td>4</td>\n",
       "      <td>9</td>\n",
       "    </tr>\n",
       "    <tr>\n",
       "      <th>4</th>\n",
       "      <td>5</td>\n",
       "      <td>3</td>\n",
       "    </tr>\n",
       "  </tbody>\n",
       "</table>\n",
       "</div>"
      ],
      "text/plain": [
       "   ImageId  Label\n",
       "0        1      2\n",
       "1        2      0\n",
       "2        3      9\n",
       "3        4      9\n",
       "4        5      3"
      ]
     },
     "execution_count": 83,
     "metadata": {},
     "output_type": "execute_result"
    }
   ],
   "source": [
    "submit_df.head()"
   ]
  },
  {
   "cell_type": "code",
   "execution_count": 84,
   "metadata": {},
   "outputs": [],
   "source": [
    "submit_df = pd.DataFrame(data=submit)"
   ]
  },
  {
   "cell_type": "code",
   "execution_count": 74,
   "metadata": {},
   "outputs": [
    {
     "data": {
      "text/html": [
       "<div>\n",
       "<style scoped>\n",
       "    .dataframe tbody tr th:only-of-type {\n",
       "        vertical-align: middle;\n",
       "    }\n",
       "\n",
       "    .dataframe tbody tr th {\n",
       "        vertical-align: top;\n",
       "    }\n",
       "\n",
       "    .dataframe thead th {\n",
       "        text-align: right;\n",
       "    }\n",
       "</style>\n",
       "<table border=\"1\" class=\"dataframe\">\n",
       "  <thead>\n",
       "    <tr style=\"text-align: right;\">\n",
       "      <th></th>\n",
       "      <th>ImageId</th>\n",
       "      <th>Label</th>\n",
       "    </tr>\n",
       "  </thead>\n",
       "  <tbody>\n",
       "    <tr>\n",
       "      <th>0</th>\n",
       "      <td>1</td>\n",
       "      <td>2</td>\n",
       "    </tr>\n",
       "    <tr>\n",
       "      <th>1</th>\n",
       "      <td>2</td>\n",
       "      <td>0</td>\n",
       "    </tr>\n",
       "    <tr>\n",
       "      <th>2</th>\n",
       "      <td>3</td>\n",
       "      <td>9</td>\n",
       "    </tr>\n",
       "    <tr>\n",
       "      <th>3</th>\n",
       "      <td>4</td>\n",
       "      <td>9</td>\n",
       "    </tr>\n",
       "    <tr>\n",
       "      <th>4</th>\n",
       "      <td>5</td>\n",
       "      <td>3</td>\n",
       "    </tr>\n",
       "  </tbody>\n",
       "</table>\n",
       "</div>"
      ],
      "text/plain": [
       "   ImageId  Label\n",
       "0        1      2\n",
       "1        2      0\n",
       "2        3      9\n",
       "3        4      9\n",
       "4        5      3"
      ]
     },
     "execution_count": 74,
     "metadata": {},
     "output_type": "execute_result"
    }
   ],
   "source": [
    "submit_df.head()"
   ]
  },
  {
   "cell_type": "code",
   "execution_count": 85,
   "metadata": {},
   "outputs": [],
   "source": [
    "submit_df.to_csv(\"dnn_predict_plain_tf_100_epochs.csv\", index=False)"
   ]
  },
  {
   "cell_type": "code",
   "execution_count": null,
   "metadata": {},
   "outputs": [],
   "source": []
  }
 ],
 "metadata": {
  "kernelspec": {
   "display_name": "Python 3",
   "language": "python",
   "name": "python3"
  },
  "language_info": {
   "codemirror_mode": {
    "name": "ipython",
    "version": 3
   },
   "file_extension": ".py",
   "mimetype": "text/x-python",
   "name": "python",
   "nbconvert_exporter": "python",
   "pygments_lexer": "ipython3",
   "version": "3.6.6"
  }
 },
 "nbformat": 4,
 "nbformat_minor": 2
}
